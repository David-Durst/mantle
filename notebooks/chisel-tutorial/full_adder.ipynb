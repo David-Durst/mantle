{
 "cells": [
  {
   "cell_type": "code",
   "execution_count": 1,
   "metadata": {},
   "outputs": [
    {
     "name": "stdout",
     "output_type": "stream",
     "text": [
      "import mantle lattice ice40\n",
      "import mantle lattice mantle40\n"
     ]
    }
   ],
   "source": [
    "from magma import *\n",
    "import os\n",
    "os.environ[\"MANTLE\"] = \"lattice\"\n",
    "from mantle import And, Or, XOr\n",
    "\n",
    "class FullAdder(Circuit):\n",
    "    name = \"FullAdder\"\n",
    "    IO = [\"a\", In(Bit), \"b\", In(Bit), \"cin\", In(Bit), \"out\", Out(Bit), \"cout\", Out(Bit)]\n",
    "    @classmethod\n",
    "    def definition(io):\n",
    "        # Generate the sum\n",
    "        _sum = XOr(3)(io.a, io.b, io.cin)\n",
    "        wire(_sum, io.out)\n",
    "        # Generate the carry\n",
    "        carry = Or(3)(And(2)(io.a, io.b), And(2)(io.b, io.cin), And(2)(io.a, io.cin))\n",
    "        wire(carry, io.cout)"
   ]
  },
  {
   "cell_type": "code",
   "execution_count": 2,
   "metadata": {},
   "outputs": [
    {
     "name": "stdout",
     "output_type": "stream",
     "text": [
      "compiling XOr3\n",
      "compiling Or3\n",
      "compiling And2\n",
      "compiling FullAdder\n",
      "module XOr3 (input [2:0] I, output  O);\n",
      "wire  inst0_O;\n",
      "SB_LUT4 #(.LUT_INIT(16'h9696)) inst0 (.I0(I[0]), .I1(I[1]), .I2(I[2]), .I3(1'b0), .O(inst0_O));\n",
      "assign O = inst0_O;\n",
      "endmodule\n",
      "\n",
      "module Or3 (input [2:0] I, output  O);\n",
      "wire  inst0_O;\n",
      "SB_LUT4 #(.LUT_INIT(16'hFEFE)) inst0 (.I0(I[0]), .I1(I[1]), .I2(I[2]), .I3(1'b0), .O(inst0_O));\n",
      "assign O = inst0_O;\n",
      "endmodule\n",
      "\n",
      "module And2 (input [1:0] I, output  O);\n",
      "wire  inst0_O;\n",
      "SB_LUT4 #(.LUT_INIT(16'h8888)) inst0 (.I0(I[0]), .I1(I[1]), .I2(1'b0), .I3(1'b0), .O(inst0_O));\n",
      "assign O = inst0_O;\n",
      "endmodule\n",
      "\n",
      "module FullAdder (input  a, input  b, input  cin, output  out, output  cout);\n",
      "wire  inst0_O;\n",
      "wire  inst1_O;\n",
      "wire  inst2_O;\n",
      "wire  inst3_O;\n",
      "wire  inst4_O;\n",
      "XOr3 inst0 (.I({cin,b,a}), .O(inst0_O));\n",
      "Or3 inst1 (.I({inst4_O,inst3_O,inst2_O}), .O(inst1_O));\n",
      "And2 inst2 (.I({b,a}), .O(inst2_O));\n",
      "And2 inst3 (.I({cin,b}), .O(inst3_O));\n",
      "And2 inst4 (.I({cin,a}), .O(inst4_O));\n",
      "assign out = inst0_O;\n",
      "assign cout = inst1_O;\n",
      "endmodule\n",
      "\n",
      "\n"
     ]
    }
   ],
   "source": [
    "from magma.backend.verilog import compile as compile_verilog\n",
    "\n",
    "print(compile_verilog(FullAdder))"
   ]
  },
  {
   "cell_type": "code",
   "execution_count": 3,
   "metadata": {},
   "outputs": [
    {
     "name": "stdout",
     "output_type": "stream",
     "text": [
      "[[0, 0, 0, 0, 0], [0, 0, 1, 1, 0], [0, 1, 0, 1, 0], [0, 1, 1, 0, 1], [1, 0, 0, 1, 0], [1, 0, 1, 0, 1], [1, 1, 0, 0, 1], [1, 1, 1, 1, 1]]\n",
      "Success\n"
     ]
    }
   ],
   "source": [
    "from magma.simulator.python_simulator import testvectors\n",
    "\n",
    "test_vectors = [\n",
    "    [0, 0, 0, 0, 0],\n",
    "    [0, 0, 1, 1, 0],\n",
    "    [0, 1, 0, 1, 0],\n",
    "    [0, 1, 1, 0, 1],\n",
    "    [1, 0, 0, 1, 0],\n",
    "    [1, 0, 1, 0, 1],\n",
    "    [1, 1, 0, 0, 1],\n",
    "    [1, 1, 1, 1, 1]\n",
    "]\n",
    "\n",
    "tests = testvectors(FullAdder)\n",
    "print(tests)\n",
    "print( \"Success\" if tests == test_vectors else \"Failure\" )"
   ]
  },
  {
   "cell_type": "code",
   "execution_count": 4,
   "metadata": {},
   "outputs": [
    {
     "data": {
      "image/png": "[encoded data removed]",
      "text/plain": [
       "<matplotlib.figure.Figure at 0x11371c3c8>"
      ]
     },
     "metadata": {},
     "output_type": "display_data"
    }
   ],
   "source": [
    "from magma.waveform import waveform\n",
    "\n",
    "waveform(tests, [\"a\", \"b\", \"cin\", \"sum\", \"cout\"])"
   ]
  }
 ],
 "metadata": {
  "kernelspec": {
   "display_name": "Python 3",
   "language": "python",
   "name": "python3"
  },
  "language_info": {
   "codemirror_mode": {
    "name": "ipython",
    "version": 3
   },
   "file_extension": ".py",
   "mimetype": "text/x-python",
   "name": "python",
   "nbconvert_exporter": "python",
   "pygments_lexer": "ipython3",
   "version": "3.6.1"
  }
 },
 "nbformat": 4,
 "nbformat_minor": 2
}
