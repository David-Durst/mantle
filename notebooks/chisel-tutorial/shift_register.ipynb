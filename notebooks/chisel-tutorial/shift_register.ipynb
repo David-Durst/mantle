{
 "cells": [
  {
   "cell_type": "code",
   "execution_count": 1,
   "metadata": {},
   "outputs": [
    {
     "name": "stdout",
     "output_type": "stream",
     "text": [
      "import mantle lattice ice40\n",
      "import mantle lattice mantle40\n"
     ]
    }
   ],
   "source": [
    "from magma import *\n",
    "import os\n",
    "os.environ[\"MANTLE\"] = \"lattice\"\n",
    "from mantle.common import FFs\n",
    "\n",
    "@cache_definition\n",
    "def DefineShiftRegister(n, init=0, has_ce=False, has_reset=False):\n",
    "    class _ShiftRegister(Circuit):\n",
    "        name = 'ShiftRegister_{}_{}_{}_{}'.format(n, init, has_ce, has_reset)\n",
    "        IO = ['I', In(Bit), 'O', Out(Bit)] + \\\n",
    "               ClockInterface(has_ce, has_reset)\n",
    "        @classmethod\n",
    "        def definition(siso):\n",
    "            ffs = FFs(n, init=init, has_ce=has_ce, has_reset=has_reset)\n",
    "            reg = braid(ffs, foldargs={\"I\":\"O\"})\n",
    "            reg(siso.I)\n",
    "            wire(reg.O, siso.O)\n",
    "            wireclock(siso, reg)\n",
    "    return _ShiftRegister"
   ]
  },
  {
   "cell_type": "code",
   "execution_count": 2,
   "metadata": {},
   "outputs": [
    {
     "name": "stdout",
     "output_type": "stream",
     "text": [
      "compiling ShiftRegister_2_0_True_False\n",
      "module ShiftRegister_2_0_True_False (input  I, output  O, input  CLK, input  CE);\n",
      "wire  inst0_Q;\n",
      "wire  inst1_Q;\n",
      "SB_DFFE inst0 (.C(CLK), .E(CE), .D(I), .Q(inst0_Q));\n",
      "SB_DFFE inst1 (.C(CLK), .E(CE), .D(inst0_Q), .Q(inst1_Q));\n",
      "assign O = inst1_Q;\n",
      "endmodule\n",
      "\n",
      "\n"
     ]
    }
   ],
   "source": [
    "from magma.backend.verilog import compile as compile_verilog\n",
    "print(compile_verilog(DefineShiftRegister(2, has_ce=True)))"
   ]
  },
  {
   "cell_type": "code",
   "execution_count": 20,
   "metadata": {},
   "outputs": [],
   "source": [
    "from magma.simulator import PythonSimulator\n",
    "from magma.bit_vector import BitVector\n",
    "\n",
    "N = 3\n",
    "ShiftRegisterNCE = DefineShiftRegister(N, has_ce=True)\n",
    "simulator = PythonSimulator(ShiftRegisterNCE, clock=ShiftRegisterNCE.CLK)\n",
    "outputs = []\n",
    "for j in range(2):\n",
    "    simulator.step()\n",
    "    simulator.evaluate()\n",
    "for I, enable in [(1, 1), (0, 1), (1, 1), (0, 1), (1, 0), (0, 0), (1, 1), (1, 1), (1, 1), (1, 1)]:\n",
    "    simulator.set_value(ShiftRegisterNCE.I, bool(I))\n",
    "    simulator.set_value(ShiftRegisterNCE.CE, bool(enable))\n",
    "    for j in range(2):\n",
    "        simulator.step()\n",
    "        simulator.evaluate()\n",
    "        O = simulator.get_value(ShiftRegisterNCE.O)\n",
    "        CLK = simulator.get_value(ShiftRegisterNCE.CLK)\n",
    "        outputs.append([O, I, enable, CLK])"
   ]
  },
  {
   "cell_type": "code",
   "execution_count": 21,
   "metadata": {},
   "outputs": [
    {
     "data": {
      "image/png": "[encoded data removed]",
      "text/plain": [
       "<matplotlib.figure.Figure at 0x114437c18>"
      ]
     },
     "metadata": {},
     "output_type": "display_data"
    }
   ],
   "source": [
    "from magma.waveform import waveform\n",
    "\n",
    "waveform(outputs, [\"O\", \"I\", \"CE\", \"CLK\"])"
   ]
  }
 ],
 "metadata": {
  "kernelspec": {
   "display_name": "Python 3",
   "language": "python",
   "name": "python3"
  },
  "language_info": {
   "codemirror_mode": {
    "name": "ipython",
    "version": 3
   },
   "file_extension": ".py",
   "mimetype": "text/x-python",
   "name": "python",
   "nbconvert_exporter": "python",
   "pygments_lexer": "ipython3",
   "version": "3.6.1"
  }
 },
 "nbformat": 4,
 "nbformat_minor": 2
}
